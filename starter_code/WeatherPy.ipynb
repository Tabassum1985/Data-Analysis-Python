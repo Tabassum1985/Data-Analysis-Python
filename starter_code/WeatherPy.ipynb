{
 "cells": [
  {
   "cell_type": "code",
   "execution_count": 1,
   "metadata": {
    "scrolled": true
   },
   "outputs": [],
   "source": [
    "# pip install citipy"
   ]
  },
  {
   "cell_type": "code",
   "execution_count": 70,
   "metadata": {
    "scrolled": true
   },
   "outputs": [],
   "source": [
    "# Dependencies and Setup\n",
    "import matplotlib.pyplot as plt\n",
    "import pandas as pd\n",
    "import numpy as np\n",
    "import requests\n",
    "import time\n",
    "import datetime as dt\n",
    "import time\n",
    "from scipy.stats import linregress\n",
    "import scipy.stats as st\n",
    "\n",
    "# Import API key\n",
    "from api_keys import weather_api_key\n",
    "\n",
    "# Incorporate citipy to determine city based on latitude and longitude\n",
    "from citipy import citipy\n",
    "\n",
    "# Output File (CSV)\n",
    "output_data_file = \"output_data/cities.csv\"\n",
    "\n",
    "# Range of latitudes and longitudes\n",
    "lat_range = (-90, 90)\n",
    "lng_range = (-180, 180)"
   ]
  },
  {
   "cell_type": "code",
   "execution_count": 3,
   "metadata": {},
   "outputs": [],
   "source": [
    "# weather_api_key"
   ]
  },
  {
   "cell_type": "code",
   "execution_count": 4,
   "metadata": {},
   "outputs": [],
   "source": [
    "## Generate Cities List"
   ]
  },
  {
   "cell_type": "code",
   "execution_count": 5,
   "metadata": {},
   "outputs": [
    {
     "data": {
      "text/plain": [
       "612"
      ]
     },
     "execution_count": 5,
     "metadata": {},
     "output_type": "execute_result"
    }
   ],
   "source": [
    "# List for holding lat_lngs and cities\n",
    "lat_lngs = []\n",
    "cities = []\n",
    "\n",
    "# Create a set of random lat and lng combinations\n",
    "lats = np.random.uniform(lat_range[0], lat_range[1], size=1500)\n",
    "lngs = np.random.uniform(lng_range[0], lng_range[1], size=1500)\n",
    "lat_lngs = zip(lats, lngs)\n",
    "\n",
    "# Identify nearest city for each lat, lng combination\n",
    "for lat_lng in lat_lngs:\n",
    "    city = citipy.nearest_city(lat_lng[0], lat_lng[1]).city_name\n",
    "    \n",
    "    # If the city is unique, then add it to a our cities list\n",
    "    if city not in cities:\n",
    "        cities.append(city)\n",
    "\n",
    "# Print the city count to confirm sufficient count\n",
    "len(cities)"
   ]
  },
  {
   "cell_type": "code",
   "execution_count": null,
   "metadata": {},
   "outputs": [],
   "source": []
  },
  {
   "cell_type": "markdown",
   "metadata": {},
   "source": [
    "### Perform API Calls\n",
    "* Perform a weather check on each city using a series of successive API calls.\n",
    "* Include a print log of each city as it'sbeing processed (with the city number and city name).\n"
   ]
  },
  {
   "cell_type": "markdown",
   "metadata": {},
   "source": [
    "### Convert Raw Data to DataFrame\n",
    "* Export the city data into a .csv.\n",
    "* Display the DataFrame"
   ]
  },
  {
   "cell_type": "code",
   "execution_count": 16,
   "metadata": {},
   "outputs": [
    {
     "name": "stdout",
     "output_type": "stream",
     "text": [
      "City Name: kondagaon, City ID: 1266216\n",
      "City Name: geraldton, City ID: 2070998\n",
      "City Name: taltal, City ID: 3870243\n",
      "City Name: hobyo, City ID: 57000\n",
      "City Name: ushuaia, City ID: 3833367\n",
      "City Name: ca mau, City ID: 1586443\n",
      "City Name: torbay, City ID: 6167817\n",
      "That record does not exist, searching for next record...\n",
      "That record does not exist, searching for next record...\n",
      "City Name: hobart, City ID: 2163355\n",
      "City Name: castro, City ID: 3466704\n",
      "City Name: rikitea, City ID: 4030556\n",
      "City Name: berlevag, City ID: 780687\n",
      "City Name: pawa, City ID: 1694252\n",
      "City Name: saint-philippe, City ID: 935215\n",
      "City Name: faya, City ID: 110690\n",
      "City Name: lompoc, City ID: 5367788\n",
      "City Name: mogadishu, City ID: 53654\n",
      "City Name: atuona, City ID: 4020109\n",
      "That record does not exist, searching for next record...\n",
      "City Name: albany, City ID: 5106841\n",
      "City Name: reynosa, City ID: 3520339\n",
      "City Name: bubaque, City ID: 2374583\n",
      "City Name: bengkulu, City ID: 1649150\n",
      "City Name: maceio, City ID: 3395981\n",
      "City Name: tiksi, City ID: 2015306\n",
      "City Name: hortolandia, City ID: 3461655\n",
      "City Name: chuy, City ID: 3443061\n",
      "City Name: lensk, City ID: 2020838\n",
      "City Name: thunder bay, City ID: 6166142\n",
      "City Name: hofn, City ID: 2630299\n",
      "City Name: port blair, City ID: 1259385\n",
      "City Name: tuktoyaktuk, City ID: 6170031\n",
      "City Name: traverse city, City ID: 5012495\n",
      "City Name: chokurdakh, City ID: 2126123\n",
      "City Name: qaanaaq, City ID: 3831208\n",
      "City Name: leh, City ID: 1264976\n",
      "City Name: bouna, City ID: 2290849\n",
      "City Name: marawi, City ID: 1701054\n",
      "City Name: barrow, City ID: 5880054\n",
      "City Name: windhoek, City ID: 3352136\n",
      "City Name: east london, City ID: 1006984\n",
      "City Name: kodiak, City ID: 5866583\n",
      "City Name: tyrma, City ID: 2014694\n",
      "City Name: puerto ayora, City ID: 3652764\n",
      "City Name: tasiilaq, City ID: 3424607\n",
      "City Name: powell river, City ID: 6112608\n",
      "City Name: lebu, City ID: 3883457\n",
      "City Name: amahai, City ID: 1651591\n",
      "City Name: kapaa, City ID: 5848280\n",
      "City Name: yar-sale, City ID: 1486321\n",
      "City Name: wadena, City ID: 5051659\n",
      "City Name: egvekinot, City ID: 4031742\n",
      "City Name: beringovskiy, City ID: 2126710\n",
      "City Name: kutum, City ID: 371745\n",
      "City Name: xinzhi, City ID: 1788462\n",
      "That record does not exist, searching for next record...\n",
      "City Name: kavieng, City ID: 2094342\n",
      "City Name: bulawayo, City ID: 894701\n",
      "City Name: sao joaquim, City ID: 3448828\n",
      "City Name: gwadar, City ID: 1177446\n",
      "City Name: muisne, City ID: 3653967\n",
      "City Name: bluff, City ID: 2206939\n",
      "City Name: mataura, City ID: 6201424\n",
      "City Name: oytal, City ID: 1520281\n",
      "City Name: kapit, City ID: 1737185\n",
      "City Name: vaini, City ID: 4032243\n",
      "City Name: cidreira, City ID: 3466165\n",
      "City Name: dakar, City ID: 2253354\n",
      "City Name: inhambane, City ID: 1045114\n",
      "City Name: tomatlan, City ID: 3981391\n",
      "City Name: dingle, City ID: 1714733\n",
      "City Name: visby, City ID: 2662689\n",
      "City Name: mogoytuy, City ID: 2019892\n",
      "City Name: paamiut, City ID: 3421193\n",
      "City Name: upernavik, City ID: 3418910\n",
      "City Name: nikolskoye, City ID: 546105\n",
      "City Name: mar del plata, City ID: 3430863\n",
      "City Name: khatanga, City ID: 2022572\n",
      "City Name: anadyr, City ID: 2127202\n",
      "City Name: klaksvik, City ID: 2618795\n",
      "City Name: cape town, City ID: 3369157\n",
      "City Name: georgetown, City ID: 1735106\n",
      "City Name: hermanus, City ID: 3366880\n",
      "City Name: samagaltay, City ID: 1493155\n",
      "That record does not exist, searching for next record...\n",
      "City Name: bredasdorp, City ID: 1015776\n",
      "City Name: bilibino, City ID: 2126682\n",
      "City Name: homa bay, City ID: 196742\n",
      "City Name: sukumo, City ID: 1851462\n",
      "City Name: maputo, City ID: 1040652\n",
      "City Name: port elizabeth, City ID: 964420\n",
      "City Name: agadez, City ID: 2448083\n",
      "City Name: ribeira grande, City ID: 3372707\n",
      "City Name: hithadhoo, City ID: 1282256\n",
      "City Name: high level, City ID: 5975004\n",
      "City Name: san ignacio, City ID: 3581194\n",
      "City Name: butaritari, City ID: 2110227\n",
      "City Name: wuhan, City ID: 1791247\n",
      "That record does not exist, searching for next record...\n",
      "City Name: bethel, City ID: 5282297\n",
      "City Name: cabo san lucas, City ID: 3985710\n",
      "City Name: rhyl, City ID: 2639409\n",
      "City Name: coquimbo, City ID: 3893629\n",
      "That record does not exist, searching for next record...\n",
      "City Name: xuddur, City ID: 49747\n",
      "That record does not exist, searching for next record...\n",
      "City Name: tanabe, City ID: 1850708\n",
      "City Name: roros, City ID: 3141332\n",
      "City Name: yurga, City ID: 1485724\n",
      "City Name: new norfolk, City ID: 2155415\n",
      "City Name: coahuayana, City ID: 4013679\n",
      "That record does not exist, searching for next record...\n",
      "City Name: muzhi, City ID: 1498161\n",
      "City Name: mbandaka, City ID: 2312895\n",
      "City Name: najran, City ID: 103630\n",
      "City Name: chadiza, City ID: 921028\n",
      "City Name: neuquen, City ID: 3843123\n",
      "City Name: zyryanka, City ID: 2119283\n",
      "City Name: qaqortoq, City ID: 3420846\n",
      "City Name: lingao, City ID: 1803560\n",
      "City Name: bathsheba, City ID: 3374083\n",
      "City Name: atar, City ID: 2381334\n",
      "City Name: herrin, City ID: 4240540\n",
      "City Name: aksarayskiy, City ID: 583683\n",
      "City Name: necochea, City ID: 3430443\n",
      "City Name: arraial do cabo, City ID: 3471451\n",
      "City Name: esperance, City ID: 2071860\n",
      "City Name: joshimath, City ID: 1268814\n",
      "City Name: alausi, City ID: 3660798\n",
      "City Name: faanui, City ID: 4034551\n",
      "City Name: fairbanks, City ID: 5861897\n",
      "City Name: guerrero negro, City ID: 4021858\n",
      "City Name: carnarvon, City ID: 2074865\n",
      "City Name: cherskiy, City ID: 2126199\n",
      "City Name: kaitangata, City ID: 2208248\n",
      "City Name: saskylakh, City ID: 2017155\n",
      "City Name: dongying, City ID: 1812101\n",
      "City Name: pacific grove, City ID: 5380437\n",
      "City Name: vila velha, City ID: 3445026\n",
      "City Name: leningradskiy, City ID: 2123814\n",
      "City Name: nome, City ID: 5870133\n",
      "City Name: neiafu, City ID: 4032420\n",
      "That record does not exist, searching for next record...\n",
      "City Name: akyab, City ID: 1295765\n",
      "City Name: bandrele, City ID: 1090397\n",
      "City Name: port alfred, City ID: 964432\n",
      "City Name: sungaipenuh, City ID: 1625929\n",
      "City Name: port-cartier, City ID: 6111696\n",
      "City Name: dwarka, City ID: 1272140\n",
      "City Name: maragogi, City ID: 3395458\n",
      "City Name: dikson, City ID: 1507390\n",
      "City Name: pattaya, City ID: 1614295\n",
      "City Name: pevek, City ID: 2122090\n",
      "City Name: batagay-alyta, City ID: 2027042\n",
      "City Name: salalah, City ID: 286621\n",
      "City Name: tsabong, City ID: 932987\n",
      "City Name: mendi, City ID: 2090990\n",
      "City Name: lavrentiya, City ID: 4031637\n",
      "City Name: hilo, City ID: 5855927\n",
      "City Name: carballo, City ID: 3126369\n",
      "That record does not exist, searching for next record...\n",
      "That record does not exist, searching for next record...\n",
      "City Name: victoria, City ID: 1819729\n",
      "That record does not exist, searching for next record...\n",
      "City Name: vardo, City ID: 777019\n",
      "City Name: manuk mangkaw, City ID: 1701394\n",
      "City Name: ahipara, City ID: 2194098\n",
      "That record does not exist, searching for next record...\n",
      "City Name: punta arenas, City ID: 3874787\n",
      "City Name: boddam, City ID: 2655288\n",
      "City Name: bereda, City ID: 3105522\n",
      "City Name: bom jesus, City ID: 3405304\n",
      "City Name: vrede, City ID: 942701\n",
      "City Name: beysehir, City ID: 321191\n",
      "City Name: namibe, City ID: 3347019\n",
      "City Name: jishou, City ID: 1805270\n",
      "City Name: tuymazy, City ID: 480089\n",
      "City Name: saldanha, City ID: 3361934\n",
      "City Name: thompson, City ID: 6165406\n",
      "City Name: ozinki, City ID: 513329\n",
      "City Name: partizanskoye, City ID: 1495538\n",
      "That record does not exist, searching for next record...\n",
      "City Name: san quintin, City ID: 3984997\n",
      "City Name: emerald, City ID: 2167426\n",
      "City Name: kavaratti, City ID: 1267390\n",
      "City Name: raychikhinsk, City ID: 2017487\n",
      "City Name: yatou, City ID: 1786855\n",
      "City Name: ternate, City ID: 1624041\n",
      "City Name: hovd, City ID: 1516048\n",
      "City Name: badvel, City ID: 1277949\n",
      "City Name: hailar, City ID: 2037078\n",
      "City Name: avarua, City ID: 4035715\n",
      "City Name: road town, City ID: 3577430\n",
      "City Name: bougouni, City ID: 2459775\n",
      "City Name: jinka, City ID: 333750\n",
      "City Name: saint-joseph, City ID: 6690296\n",
      "City Name: kudahuvadhoo, City ID: 1337607\n",
      "City Name: malpe, City ID: 1264037\n",
      "City Name: severo-kurilsk, City ID: 2121385\n",
      "That record does not exist, searching for next record...\n",
      "City Name: jamestown, City ID: 5122534\n",
      "City Name: morros, City ID: 3394372\n",
      "City Name: emba, City ID: 609924\n",
      "City Name: nanakuli, City ID: 5851349\n",
      "City Name: srednekolymsk, City ID: 2121025\n",
      "City Name: busselton, City ID: 2075265\n",
      "City Name: galveston, City ID: 4692856\n",
      "City Name: abu samrah, City ID: 172515\n",
      "City Name: urubicha, City ID: 3901969\n"
     ]
    },
    {
     "name": "stdout",
     "output_type": "stream",
     "text": [
      "City Name: te anau, City ID: 2181625\n",
      "City Name: xiaoweizhai, City ID: 1789945\n",
      "City Name: airai, City ID: 1651810\n",
      "City Name: caravelas, City ID: 3466980\n",
      "City Name: lasa, City ID: 3175096\n",
      "City Name: calabozo, City ID: 3647444\n",
      "City Name: sonari, City ID: 1255788\n",
      "City Name: olden, City ID: 3135601\n",
      "City Name: perevoz, City ID: 511287\n",
      "City Name: saint-francois, City ID: 2980080\n",
      "City Name: buraydah, City ID: 107304\n",
      "City Name: lesogorsk, City ID: 1500609\n",
      "City Name: ikwiriri, City ID: 159242\n",
      "That record does not exist, searching for next record...\n",
      "City Name: dhidhdhoo, City ID: 1337612\n",
      "City Name: nortelandia, City ID: 3456248\n",
      "City Name: parabel, City ID: 1495586\n",
      "City Name: irbil, City ID: 95446\n",
      "City Name: sinjar, City ID: 448149\n",
      "City Name: hami, City ID: 1529484\n",
      "City Name: valleyview, City ID: 6173220\n",
      "City Name: chateaudun, City ID: 3026285\n",
      "City Name: shimoda, City ID: 1852357\n",
      "City Name: cabedelo, City ID: 3404558\n",
      "City Name: bilma, City ID: 2446796\n",
      "City Name: mahebourg, City ID: 934322\n",
      "That record does not exist, searching for next record...\n",
      "City Name: severodvinsk, City ID: 496285\n",
      "City Name: jardim, City ID: 3460087\n",
      "City Name: kralendijk, City ID: 3513563\n",
      "City Name: parrita, City ID: 3622537\n",
      "City Name: curup, City ID: 1645875\n",
      "That record does not exist, searching for next record...\n",
      "City Name: araouane, City ID: 2460954\n",
      "City Name: doaba, City ID: 1179724\n",
      "City Name: gouyave, City ID: 3580279\n",
      "City Name: mayumba, City ID: 2399001\n",
      "City Name: ust-omchug, City ID: 2120047\n",
      "City Name: kahului, City ID: 5847411\n",
      "City Name: alofi, City ID: 4036284\n",
      "City Name: cockburn town, City ID: 3576994\n",
      "City Name: tenosique, City ID: 3515956\n",
      "City Name: lluta, City ID: 3936088\n",
      "City Name: tondano, City ID: 1623424\n",
      "City Name: general pico, City ID: 3855075\n",
      "City Name: marienburg, City ID: 3092472\n",
      "City Name: carroll, City ID: 4350461\n",
      "City Name: payo, City ID: 1638775\n",
      "City Name: itarema, City ID: 3393692\n",
      "City Name: bud, City ID: 4255151\n",
      "City Name: opuwo, City ID: 3354077\n",
      "City Name: rocha, City ID: 3440777\n",
      "City Name: narsaq, City ID: 3421719\n",
      "City Name: aklavik, City ID: 5882953\n",
      "That record does not exist, searching for next record...\n",
      "City Name: portland, City ID: 5746545\n",
      "City Name: cienaga, City ID: 3686279\n",
      "City Name: ambon, City ID: 1651531\n",
      "City Name: nemuro, City ID: 2128975\n",
      "City Name: ilulissat, City ID: 3423146\n",
      "City Name: itamaraca, City ID: 3397963\n",
      "City Name: gizo, City ID: 2108857\n",
      "City Name: etla, City ID: 3517809\n",
      "City Name: wukari, City ID: 2318921\n",
      "City Name: longyearbyen, City ID: 2729907\n",
      "City Name: potosi, City ID: 3907584\n",
      "City Name: vostok, City ID: 2013279\n",
      "City Name: radcliff, City ID: 4305504\n",
      "City Name: batemans bay, City ID: 2176639\n",
      "City Name: chimore, City ID: 3920736\n",
      "City Name: aktau, City ID: 610612\n",
      "City Name: mount gambier, City ID: 2156643\n",
      "City Name: yining, City ID: 1786538\n",
      "City Name: san patricio, City ID: 4726521\n",
      "That record does not exist, searching for next record...\n",
      "City Name: ust-maya, City ID: 2013918\n",
      "City Name: oostburg, City ID: 5265752\n",
      "City Name: lupiro, City ID: 155584\n",
      "That record does not exist, searching for next record...\n",
      "City Name: sitka, City ID: 5557293\n",
      "City Name: korla, City ID: 1529376\n",
      "That record does not exist, searching for next record...\n",
      "City Name: souillac, City ID: 933995\n",
      "City Name: xichang, City ID: 1789647\n",
      "City Name: yellowknife, City ID: 6185377\n",
      "City Name: barra dos coqueiros, City ID: 3470674\n",
      "City Name: porto novo, City ID: 2392087\n",
      "City Name: laguna, City ID: 5364271\n",
      "City Name: vrangel, City ID: 2013258\n",
      "City Name: puerto escondido, City ID: 3520994\n",
      "City Name: ossora, City ID: 2122389\n",
      "City Name: guarumal, City ID: 3708892\n",
      "That record does not exist, searching for next record...\n",
      "City Name: haines junction, City ID: 5969025\n",
      "City Name: ponta do sol, City ID: 2264557\n",
      "City Name: barra patuca, City ID: 3614835\n",
      "City Name: uarini, City ID: 3661756\n",
      "That record does not exist, searching for next record...\n",
      "City Name: pointe-noire, City ID: 2255414\n",
      "City Name: nanortalik, City ID: 3421765\n",
      "City Name: huinan, City ID: 2036685\n",
      "That record does not exist, searching for next record...\n",
      "City Name: lamu, City ID: 189741\n",
      "City Name: mount isa, City ID: 2065594\n",
      "City Name: gulariya, City ID: 1283368\n",
      "City Name: karpathos, City ID: 260895\n",
      "City Name: norman wells, City ID: 6089245\n",
      "City Name: celestun, City ID: 3531368\n",
      "City Name: erzin, City ID: 296852\n",
      "City Name: ola, City ID: 2122574\n",
      "That record does not exist, searching for next record...\n",
      "City Name: sola, City ID: 2134814\n",
      "City Name: whitianga, City ID: 2179103\n",
      "City Name: fortuna, City ID: 5563839\n",
      "City Name: sosnovo-ozerskoye, City ID: 2016216\n",
      "City Name: nalut, City ID: 2214432\n",
      "City Name: henties bay, City ID: 3356832\n",
      "City Name: pundaguitan, City ID: 1698289\n",
      "City Name: winslow, City ID: 5321473\n",
      "City Name: pisco, City ID: 3932145\n",
      "City Name: monrovia, City ID: 2274895\n",
      "City Name: lyantonde, City ID: 229599\n",
      "That record does not exist, searching for next record...\n",
      "City Name: inirida, City ID: 3671450\n",
      "City Name: kolyvan, City ID: 1502822\n",
      "City Name: udachnyy, City ID: 2014624\n",
      "City Name: clinton, City ID: 4989133\n",
      "City Name: capitan bado, City ID: 3439189\n",
      "City Name: codrington, City ID: 2171099\n",
      "City Name: khipro, City ID: 1173889\n",
      "City Name: ayan, City ID: 2027316\n",
      "That record does not exist, searching for next record...\n",
      "City Name: lorengau, City ID: 2092164\n",
      "City Name: luderitz, City ID: 3355672\n",
      "City Name: half moon bay, City ID: 5354943\n",
      "City Name: vermilion, City ID: 4914710\n",
      "City Name: pierre, City ID: 5767918\n",
      "City Name: provideniya, City ID: 4031574\n",
      "City Name: kyra, City ID: 2021041\n",
      "That record does not exist, searching for next record...\n",
      "City Name: aksu, City ID: 1529660\n",
      "City Name: upata, City ID: 3625710\n",
      "City Name: santa cruz de la palma, City ID: 2511180\n",
      "City Name: guaymas, City ID: 4005143\n",
      "City Name: conde, City ID: 3385077\n",
      "City Name: bambous virieux, City ID: 1106677\n",
      "City Name: yulara, City ID: 6355222\n",
      "City Name: lagoa, City ID: 3372964\n",
      "City Name: mago, City ID: 2123621\n",
      "City Name: alice springs, City ID: 2077895\n",
      "City Name: isla mujeres, City ID: 3526756\n",
      "City Name: roald, City ID: 3141667\n",
      "City Name: talnakh, City ID: 1490256\n",
      "City Name: kamwenge, City ID: 232371\n",
      "City Name: iqaluit, City ID: 5983720\n",
      "City Name: dunedin, City ID: 2191562\n",
      "City Name: cervo, City ID: 3125287\n",
      "City Name: renqiu, City ID: 1797181\n",
      "City Name: isangel, City ID: 2136825\n",
      "City Name: miranda de ebro, City ID: 3116689\n",
      "City Name: westport, City ID: 4845585\n",
      "City Name: grindavik, City ID: 3416888\n",
      "City Name: axim, City ID: 2303611\n",
      "City Name: okulovka, City ID: 515771\n",
      "City Name: touros, City ID: 3386213\n",
      "City Name: meulaboh, City ID: 1214488\n",
      "City Name: kupino, City ID: 1501365\n",
      "City Name: lata, City ID: 2738381\n",
      "City Name: sombrio, City ID: 3447409\n",
      "City Name: zhigansk, City ID: 2012530\n",
      "City Name: shawnee, City ID: 4279253\n",
      "City Name: peniche, City ID: 2264923\n",
      "City Name: talaya, City ID: 2120769\n",
      "City Name: storforshei, City ID: 3145614\n",
      "City Name: mahanje, City ID: 155285\n",
      "That record does not exist, searching for next record...\n",
      "City Name: asvanyraro, City ID: 3055827\n",
      "City Name: juba, City ID: 373303\n",
      "City Name: constitucion, City ID: 3893726\n",
      "City Name: hasaki, City ID: 2112802\n",
      "City Name: wana, City ID: 1162634\n",
      "City Name: samarai, City ID: 2132606\n",
      "City Name: ucluelet, City ID: 6171633\n",
      "City Name: mehamn, City ID: 778707\n",
      "City Name: rock sound, City ID: 3571592\n",
      "City Name: launceston, City ID: 2160517\n",
      "City Name: eureka, City ID: 5563397\n",
      "City Name: walvis bay, City ID: 3359638\n",
      "City Name: diapaga, City ID: 2361373\n",
      "City Name: slave lake, City ID: 6149374\n",
      "City Name: clyde river, City ID: 5924351\n",
      "City Name: solwezi, City ID: 897045\n",
      "City Name: cap malheureux, City ID: 934649\n",
      "City Name: amalapuram, City ID: 1278935\n",
      "City Name: tres picos, City ID: 3515120\n",
      "City Name: san cristobal, City ID: 3628473\n",
      "City Name: bintulu, City ID: 1737486\n",
      "City Name: venado tuerto, City ID: 3833062\n",
      "City Name: ouahigouya, City ID: 2357043\n",
      "City Name: sao joao dos patos, City ID: 3388615\n",
      "City Name: almaznyy, City ID: 582447\n",
      "City Name: pskov, City ID: 504341\n",
      "City Name: guilin, City ID: 1809498\n",
      "That record does not exist, searching for next record...\n",
      "City Name: camana, City ID: 3945985\n",
      "City Name: bell ville, City ID: 3864331\n",
      "City Name: ancud, City ID: 3899695\n",
      "City Name: lishui, City ID: 1803245\n",
      "City Name: bumba, City ID: 217745\n"
     ]
    },
    {
     "name": "stdout",
     "output_type": "stream",
     "text": [
      "City Name: andenes, City ID: 3163146\n",
      "City Name: tilichiki, City ID: 2120591\n",
      "City Name: adrar, City ID: 2381972\n",
      "City Name: george town, City ID: 1735106\n",
      "City Name: ushibuka, City ID: 1849154\n",
      "City Name: rajapur, City ID: 1258911\n",
      "That record does not exist, searching for next record...\n",
      "City Name: tabuk, City ID: 1684803\n",
      "City Name: liverpool, City ID: 2644210\n",
      "City Name: san rafael, City ID: 3836669\n",
      "City Name: ghidigeni, City ID: 677407\n",
      "City Name: gharghoda, City ID: 1271361\n",
      "City Name: beidao, City ID: 1816751\n",
      "That record does not exist, searching for next record...\n",
      "City Name: north platte, City ID: 5697939\n",
      "That record does not exist, searching for next record...\n",
      "City Name: boa vista, City ID: 3664980\n",
      "City Name: revda, City ID: 502011\n",
      "City Name: santa maria, City ID: 3450083\n",
      "City Name: ostrovnoy, City ID: 556268\n",
      "City Name: doha, City ID: 290030\n",
      "City Name: dubti, City ID: 338554\n",
      "City Name: saint george, City ID: 5546220\n",
      "City Name: oksfjord, City ID: 778362\n",
      "City Name: alto parana, City ID: 3472440\n",
      "City Name: kimbe, City ID: 2093967\n",
      "City Name: champerico, City ID: 3598787\n",
      "City Name: pathein, City ID: 1328421\n",
      "City Name: evensk, City ID: 2125693\n",
      "City Name: iberia, City ID: 4328254\n",
      "City Name: amurzet, City ID: 2027740\n",
      "City Name: iranshahr, City ID: 1160939\n",
      "City Name: altagracia de orituco, City ID: 3649408\n",
      "City Name: vaitape, City ID: 4033077\n",
      "City Name: sabang, City ID: 1214026\n",
      "City Name: mackay, City ID: 2159220\n",
      "City Name: puerto ayacucho, City ID: 3629710\n",
      "City Name: ayorou, City ID: 2447416\n",
      "City Name: poum, City ID: 2138555\n",
      "City Name: penzance, City ID: 2640377\n",
      "City Name: sebring, City ID: 4172383\n",
      "City Name: ketchikan, City ID: 5554428\n",
      "City Name: kalabo, City ID: 915471\n",
      "City Name: suntar, City ID: 2015913\n",
      "City Name: floresta, City ID: 3399518\n",
      "City Name: bataipora, City ID: 3470338\n",
      "City Name: nuuk, City ID: 3421319\n",
      "City Name: tessalit, City ID: 2449893\n",
      "That record does not exist, searching for next record...\n",
      "City Name: gao, City ID: 2457161\n",
      "City Name: yerbogachen, City ID: 2012956\n",
      "City Name: kushima, City ID: 1895695\n",
      "City Name: santa rosa, City ID: 1687894\n",
      "That record does not exist, searching for next record...\n",
      "City Name: snyder, City ID: 5530921\n",
      "City Name: karratha, City ID: 6620339\n",
      "City Name: viedma, City ID: 3832899\n",
      "City Name: manzanillo, City ID: 3547867\n",
      "City Name: whitehorse, City ID: 6180550\n",
      "That record does not exist, searching for next record...\n",
      "City Name: vao, City ID: 2137773\n",
      "City Name: bida, City ID: 2347209\n",
      "City Name: buala, City ID: 2109528\n",
      "City Name: micheweni, City ID: 153955\n",
      "City Name: inta, City ID: 1505579\n",
      "City Name: katete, City ID: 227592\n",
      "City Name: manokwari, City ID: 1636308\n",
      "City Name: kathmandu, City ID: 1283240\n",
      "City Name: aktas, City ID: 1526619\n",
      "City Name: vila, City ID: 7117100\n",
      "City Name: tommot, City ID: 2015179\n",
      "City Name: sahuaripa, City ID: 3988265\n",
      "City Name: kalanguy, City ID: 2023298\n",
      "City Name: colac, City ID: 2171069\n",
      "City Name: tainan, City ID: 1668355\n",
      "City Name: richards bay, City ID: 962367\n",
      "City Name: hadishahr, City ID: 148251\n",
      "That record does not exist, searching for next record...\n",
      "City Name: labuan, City ID: 1733782\n",
      "City Name: berbera, City ID: 64435\n",
      "City Name: nanding, City ID: 1800107\n",
      "City Name: snina, City ID: 723559\n",
      "City Name: ormara, City ID: 1168700\n",
      "City Name: manavgat, City ID: 304854\n",
      "That record does not exist, searching for next record...\n",
      "City Name: deyang, City ID: 1812961\n",
      "City Name: aswan, City ID: 359792\n",
      "City Name: kieta, City ID: 2094027\n",
      "City Name: buloh kasap, City ID: 1734879\n",
      "City Name: encruzilhada do sul, City ID: 3464255\n",
      "City Name: vershino-shakhtaminskiy, City ID: 2013441\n",
      "City Name: mareeba, City ID: 2158767\n",
      "City Name: avera, City ID: 4231997\n",
      "City Name: utete, City ID: 149070\n",
      "City Name: hibbing, City ID: 5030005\n",
      "City Name: bay roberts, City ID: 5895424\n",
      "City Name: gouvieux, City ID: 3015460\n",
      "City Name: goderich, City ID: 5962442\n",
      "City Name: zhob, City ID: 1162105\n",
      "City Name: ubinskoye, City ID: 1488708\n",
      "City Name: talgar, City ID: 1518518\n",
      "City Name: kruisfontein, City ID: 986717\n",
      "City Name: sao filipe, City ID: 3374210\n",
      "City Name: warri, City ID: 2319133\n",
      "City Name: chongoyape, City ID: 3698176\n",
      "City Name: quatre cocos, City ID: 1106643\n",
      "City Name: mudgal, City ID: 1262664\n",
      "City Name: kudat, City ID: 1736458\n",
      "City Name: iralaya, City ID: 3608828\n",
      "City Name: puerto vallarta, City ID: 3991328\n",
      "City Name: svirsk, City ID: 2015842\n",
      "City Name: edina, City ID: 5025264\n",
      "That record does not exist, searching for next record...\n",
      "City Name: palana, City ID: 2122262\n",
      "City Name: kurilsk, City ID: 2123979\n",
      "City Name: turayf, City ID: 101312\n",
      "City Name: messina, City ID: 2524170\n",
      "City Name: sorland, City ID: 3137469\n",
      "City Name: broome, City ID: 5110365\n",
      "City Name: cayenne, City ID: 3382160\n",
      "City Name: kota belud, City ID: 1736660\n",
      "City Name: pereyaslovskaya, City ID: 511264\n",
      "City Name: northam, City ID: 2641434\n",
      "City Name: saint-junien, City ID: 6454825\n",
      "City Name: palu, City ID: 1633034\n",
      "City Name: gulu, City ID: 233346\n",
      "City Name: para de minas, City ID: 3455161\n",
      "City Name: masallatah, City ID: 2215163\n",
      "City Name: husavik, City ID: 2629833\n",
      "City Name: tautira, City ID: 4033557\n",
      "City Name: tazovskiy, City ID: 1489853\n",
      "City Name: sept-iles, City ID: 6144312\n",
      "That record does not exist, searching for next record...\n",
      "City Name: huntsville, City ID: 4068590\n",
      "City Name: tuma, City ID: 480484\n",
      "City Name: donskoye, City ID: 565289\n",
      "City Name: altamira, City ID: 3407882\n",
      "City Name: jeremie, City ID: 3723593\n",
      "City Name: tenkodogo, City ID: 2354675\n",
      "City Name: giraltovce, City ID: 724784\n",
      "City Name: inuvik, City ID: 5983607\n",
      "City Name: soyo, City ID: 2236967\n",
      "City Name: desaguadero, City ID: 3941492\n",
      "City Name: pandan, City ID: 1695546\n",
      "City Name: asau, City ID: 686090\n",
      "City Name: bakaly, City ID: 579728\n",
      "City Name: krasnoborsk, City ID: 542423\n",
      "City Name: alto araguaia, City ID: 3472473\n",
      "City Name: marsh harbour, City ID: 3571913\n",
      "City Name: qui nhon, City ID: 1568574\n",
      "City Name: nyurba, City ID: 2018735\n",
      "City Name: ngorongoro, City ID: 151610\n",
      "City Name: sao mateus do sul, City ID: 3448502\n",
      "City Name: belyy, City ID: 577576\n",
      "City Name: pangnirtung, City ID: 6096551\n",
      "City Name: khrenovoye, City ID: 549266\n",
      "City Name: belyy yar, City ID: 1510377\n",
      "City Name: mizan teferi, City ID: 330534\n",
      "City Name: les cayes, City ID: 3728097\n",
      "City Name: pailon, City ID: 3909010\n",
      "City Name: ishigaki, City ID: 1861416\n",
      "City Name: tarata, City ID: 3903342\n",
      "City Name: cuamba, City ID: 1047660\n",
      "That record does not exist, searching for next record...\n",
      "City Name: kuytun, City ID: 2021093\n",
      "City Name: beyneu, City ID: 610298\n",
      "City Name: waipawa, City ID: 2206874\n",
      "City Name: puri, City ID: 1259184\n",
      "City Name: san rafael del sur, City ID: 3616594\n",
      "City Name: tadine, City ID: 2138285\n",
      "City Name: mandalgovi, City ID: 2030065\n",
      "City Name: riyadh, City ID: 108410\n",
      "City Name: mountain home, City ID: 5601615\n",
      "City Name: hit, City ID: 95788\n",
      "City Name: petropavlovsk-kamchatskiy, City ID: 2122104\n",
      "That record does not exist, searching for next record...\n",
      "City Name: noyabrsk, City ID: 1496503\n",
      "City Name: flinders, City ID: 6255012\n",
      "That record does not exist, searching for next record...\n",
      "City Name: saint anthony, City ID: 5044290\n",
      "City Name: aquiraz, City ID: 3407407\n",
      "City Name: joao pinheiro, City ID: 3459785\n",
      "City Name: gebog, City ID: 1644360\n",
      "City Name: rongcheng, City ID: 1797117\n",
      "That record does not exist, searching for next record...\n",
      "City Name: gaogou, City ID: 1810553\n",
      "City Name: springbok, City ID: 3361142\n",
      "City Name: anito, City ID: 1730622\n",
      "City Name: santa catarina, City ID: 3450387\n",
      "City Name: dongning, City ID: 2037611\n",
      "That record does not exist, searching for next record...\n",
      "City Name: santa cruz cabralia, City ID: 3450288\n",
      "City Name: hualmay, City ID: 3939761\n"
     ]
    }
   ],
   "source": [
    "url = \"http://api.openweathermap.org/data/2.5/weather?\"\n",
    "units = \"imperial\"\n",
    "query_url = f\"{url}appid={weather_api_key}&units={units}&q=\"\n",
    "\n",
    "# Create empty lists to store the data for each field\n",
    "city_id_list = []\n",
    "city_name_list = []\n",
    "country_list = []\n",
    "lng_list = []\n",
    "lat_list = []\n",
    "temp_list = []\n",
    "humidity_list = []\n",
    "clouds_list = []\n",
    "wind_speed_list = []\n",
    "\n",
    "# Loop through cities\n",
    "for city in cities:\n",
    "    \n",
    "    # Get the JSON response from the OpenWeather API\n",
    "    response_json = requests.get(query_url + city).json()\n",
    "    \n",
    "    # Start the error handling\n",
    "    # Retrieve the items for each field and append them to the empty lists  \n",
    "    try:\n",
    "        \n",
    "        city_id = response_json['id']\n",
    "        city_id_list.append(city_id)\n",
    "            \n",
    "        city_name = response_json['name']\n",
    "        city_name_list.append(city_name)\n",
    "        \n",
    "        country_name = response_json['sys']['country']\n",
    "        country_list.append(country_name)\n",
    "\n",
    "        lng = response_json['coord']['lon']\n",
    "        lng_list.append(lng)\n",
    "\n",
    "        lat = response_json['coord']['lat']\n",
    "        lat_list.append(lat)\n",
    "\n",
    "        temp = response_json['main']['temp']\n",
    "        temp_list.append(temp)\n",
    "\n",
    "        humidity = response_json['main']['humidity']\n",
    "        humidity_list.append(humidity)\n",
    "\n",
    "        clouds = response_json['clouds']['all']\n",
    "        clouds_list.append(clouds)\n",
    "\n",
    "        wind_speed = response_json['wind']['speed']\n",
    "        wind_speed_list.append(wind_speed)\n",
    "    \n",
    "        print(f\"City Name: {city}, City ID: {city_id}\")\n",
    "    \n",
    "    # Print error message and move on to the next city if there is an error\n",
    "    except:\n",
    "        \n",
    "        print(\"That record does not exist, searching for next record...\")\n",
    "   \n"
   ]
  },
  {
   "cell_type": "markdown",
   "metadata": {},
   "source": [
    "## Inspect the data and remove the cities where the humidity > 100%.\n",
    "----\n",
    "Skip this step if there are no cities that have humidity > 100%. "
   ]
  },
  {
   "cell_type": "code",
   "execution_count": 21,
   "metadata": {},
   "outputs": [
    {
     "data": {
      "text/html": [
       "<div>\n",
       "<style scoped>\n",
       "    .dataframe tbody tr th:only-of-type {\n",
       "        vertical-align: middle;\n",
       "    }\n",
       "\n",
       "    .dataframe tbody tr th {\n",
       "        vertical-align: top;\n",
       "    }\n",
       "\n",
       "    .dataframe thead th {\n",
       "        text-align: right;\n",
       "    }\n",
       "</style>\n",
       "<table border=\"1\" class=\"dataframe\">\n",
       "  <thead>\n",
       "    <tr style=\"text-align: right;\">\n",
       "      <th></th>\n",
       "      <th>City</th>\n",
       "      <th>Lat</th>\n",
       "      <th>Lng</th>\n",
       "      <th>Temperature</th>\n",
       "      <th>Humidity</th>\n",
       "      <th>Clouds</th>\n",
       "      <th>Wind Speed</th>\n",
       "      <th>Country</th>\n",
       "      <th>Date</th>\n",
       "    </tr>\n",
       "  </thead>\n",
       "  <tbody>\n",
       "    <tr>\n",
       "      <th>0</th>\n",
       "      <td>Kondagaon</td>\n",
       "      <td>19.6000</td>\n",
       "      <td>81.6667</td>\n",
       "      <td>65.19</td>\n",
       "      <td>74</td>\n",
       "      <td>0</td>\n",
       "      <td>2.71</td>\n",
       "      <td>IN</td>\n",
       "      <td>1677962698</td>\n",
       "    </tr>\n",
       "    <tr>\n",
       "      <th>1</th>\n",
       "      <td>Geraldton</td>\n",
       "      <td>-28.7667</td>\n",
       "      <td>114.6000</td>\n",
       "      <td>63.01</td>\n",
       "      <td>74</td>\n",
       "      <td>0</td>\n",
       "      <td>9.22</td>\n",
       "      <td>AU</td>\n",
       "      <td>1677962513</td>\n",
       "    </tr>\n",
       "    <tr>\n",
       "      <th>2</th>\n",
       "      <td>Taltal</td>\n",
       "      <td>-25.4000</td>\n",
       "      <td>-70.4833</td>\n",
       "      <td>73.29</td>\n",
       "      <td>74</td>\n",
       "      <td>56</td>\n",
       "      <td>6.29</td>\n",
       "      <td>CL</td>\n",
       "      <td>1677962625</td>\n",
       "    </tr>\n",
       "    <tr>\n",
       "      <th>3</th>\n",
       "      <td>Hobyo</td>\n",
       "      <td>5.3505</td>\n",
       "      <td>48.5268</td>\n",
       "      <td>77.97</td>\n",
       "      <td>74</td>\n",
       "      <td>63</td>\n",
       "      <td>17.20</td>\n",
       "      <td>SO</td>\n",
       "      <td>1677962698</td>\n",
       "    </tr>\n",
       "    <tr>\n",
       "      <th>4</th>\n",
       "      <td>Ushuaia</td>\n",
       "      <td>-54.8000</td>\n",
       "      <td>-68.3000</td>\n",
       "      <td>46.06</td>\n",
       "      <td>74</td>\n",
       "      <td>75</td>\n",
       "      <td>20.71</td>\n",
       "      <td>AR</td>\n",
       "      <td>1677962263</td>\n",
       "    </tr>\n",
       "  </tbody>\n",
       "</table>\n",
       "</div>"
      ],
      "text/plain": [
       "        City      Lat       Lng  Temperature  Humidity  Clouds  Wind Speed  \\\n",
       "0  Kondagaon  19.6000   81.6667        65.19        74       0        2.71   \n",
       "1  Geraldton -28.7667  114.6000        63.01        74       0        9.22   \n",
       "2     Taltal -25.4000  -70.4833        73.29        74      56        6.29   \n",
       "3      Hobyo   5.3505   48.5268        77.97        74      63       17.20   \n",
       "4    Ushuaia -54.8000  -68.3000        46.06        74      75       20.71   \n",
       "\n",
       "  Country        Date  \n",
       "0      IN  1677962698  \n",
       "1      AU  1677962513  \n",
       "2      CL  1677962625  \n",
       "3      SO  1677962698  \n",
       "4      AR  1677962263  "
      ]
     },
     "execution_count": 21,
     "metadata": {},
     "output_type": "execute_result"
    }
   ],
   "source": [
    "#create a dataframe\n",
    "my_dict={\"City\":city_name_list,\n",
    "        \"Lat\":lat_list,\n",
    "        \"Lng\":lng_list,\n",
    "        \"Temperature\": temp_list,\n",
    "        \"Humidity\":humidity,\n",
    "        \"Clouds\": clouds_list,\n",
    "        \"Wind Speed\":wind_speed_list,\n",
    "        \"Country\":country,\n",
    "        \"Date\":date}\n",
    "\n",
    "df= pd.DataFrame(my_dict)\n",
    "df.head()"
   ]
  },
  {
   "cell_type": "code",
   "execution_count": 24,
   "metadata": {},
   "outputs": [
    {
     "data": {
      "text/plain": [
       "74"
      ]
     },
     "execution_count": 24,
     "metadata": {},
     "output_type": "execute_result"
    }
   ],
   "source": [
    "#  Get the indices of cities that have humidity over 100%.\n",
    "df['Humidity'].max()\n"
   ]
  },
  {
   "cell_type": "code",
   "execution_count": 25,
   "metadata": {},
   "outputs": [],
   "source": [
    "# there are no temperatures over 100%"
   ]
  },
  {
   "cell_type": "code",
   "execution_count": 26,
   "metadata": {},
   "outputs": [],
   "source": [
    "# df_humidity = df[(df[\"Humidity\"] > 100)].index\n"
   ]
  },
  {
   "cell_type": "code",
   "execution_count": 27,
   "metadata": {},
   "outputs": [],
   "source": [
    "# Make a new DataFrame equal to the city data to drop all humidity outliers by index.\n",
    "# Passing \"inplace=False\" will make a copy of the city_data DataFrame, which we call \"clean_city_data\".\n"
   ]
  },
  {
   "cell_type": "code",
   "execution_count": 38,
   "metadata": {},
   "outputs": [],
   "source": [
    "# Export the filtered city data into a csv\n",
    "df.to_csv(\"clean_data.csv,index=False, header=True\")\n"
   ]
  },
  {
   "cell_type": "markdown",
   "metadata": {},
   "source": [
    "## Plotting the Data\n",
    "* Use proper labeling of the plots using plot titles (including date of analysis) and axes labels.\n",
    "* Save the plotted figures as .pngs."
   ]
  },
  {
   "cell_type": "markdown",
   "metadata": {},
   "source": [
    "## Latitude vs. Temperature Plot"
   ]
  },
  {
   "cell_type": "code",
   "execution_count": 40,
   "metadata": {
    "scrolled": true
   },
   "outputs": [
    {
     "data": {
      "image/png": "[encoded data removed]",
      "text/plain": [
       "<Figure size 432x288 with 1 Axes>"
      ]
     },
     "metadata": {
      "needs_background": "light"
     },
     "output_type": "display_data"
    }
   ],
   "source": [
    "date = pd.Timestamp(\"today\").strftime(\"%m/%d/%Y\")\n",
    "\n",
    "latitude = df[\"Lat\"]\n",
    "temperature = df[\"Temperature\"]\n",
    "plt.scatter(latitude,temperature,edgecolor=\"black\", linewidth=1, marker=\"o\",)\n",
    "plt.title(f\"City Latitude vs Temperature {date}\")\n",
    "plt.xlabel(\"Latitude\")\n",
    "plt.ylabel(\"Temperature (F)\")\n",
    "plt.grid()\n",
    "plt.savefig(\"Latitude vsTemperature.png\")"
   ]
  },
  {
   "cell_type": "markdown",
   "metadata": {},
   "source": [
    "## Latitude vs. Humidity Plot"
   ]
  },
  {
   "cell_type": "code",
   "execution_count": 43,
   "metadata": {},
   "outputs": [
    {
     "data": {
      "image/png": "[encoded data removed]",
      "text/plain": [
       "<Figure size 432x288 with 1 Axes>"
      ]
     },
     "metadata": {
      "needs_background": "light"
     },
     "output_type": "display_data"
    },
    {
     "data": {
      "text/plain": [
       "<Figure size 432x288 with 0 Axes>"
      ]
     },
     "metadata": {},
     "output_type": "display_data"
    }
   ],
   "source": [
    "x_values = df[\"Lat\"]\n",
    "y_values = df[\"Humidity\"]\n",
    "\n",
    "\n",
    "plt.scatter(x_values,y_values)\n",
    "plt.title('Humidity at Latitude Positions')\n",
    "plt.xlabel('Latitude')\n",
    "plt.ylabel('Humidity (%)')\n",
    "plt.ylim(0, 105)\n",
    "plt.xlim(-60, 80)\n",
    "plt.minorticks_on()\n",
    "plt.grid(which='major', linestyle='-')\n",
    "plt.grid(which='minor', linestyle=':')\n",
    "plt.tight_layout()\n",
    "plt.show()\n",
    "plt.savefig(\"Latitude vs Humidity.png\")"
   ]
  },
  {
   "cell_type": "markdown",
   "metadata": {},
   "source": [
    "## Latitude vs. Cloudiness Plot"
   ]
  },
  {
   "cell_type": "code",
   "execution_count": 45,
   "metadata": {},
   "outputs": [
    {
     "data": {
      "image/png": "[encoded data removed]",
      "text/plain": [
       "<Figure size 432x288 with 1 Axes>"
      ]
     },
     "metadata": {
      "needs_background": "light"
     },
     "output_type": "display_data"
    }
   ],
   "source": [
    "latitude = df[\"Lat\"]\n",
    "cloudiness = df[\"Clouds\"]\n",
    "plt.scatter(latitude,cloudiness,edgecolor=\"black\", linewidth=1, marker=\"o\")\n",
    "plt.title(f\"City Latitude vs. Cloudiness {date}\")\n",
    "plt.xlabel(\"Latitude\")\n",
    "plt.ylabel(\"Humidity (%)\")\n",
    "plt.grid()\n",
    "plt.savefig(\"Latitude vs Cloudiness.png\")"
   ]
  },
  {
   "cell_type": "markdown",
   "metadata": {},
   "source": [
    "## Latitude vs. Wind Speed Plot"
   ]
  },
  {
   "cell_type": "code",
   "execution_count": 46,
   "metadata": {},
   "outputs": [
    {
     "data": {
      "image/png": "[encoded data removed]",
      "text/plain": [
       "<Figure size 432x288 with 1 Axes>"
      ]
     },
     "metadata": {
      "needs_background": "light"
     },
     "output_type": "display_data"
    }
   ],
   "source": [
    "latitude = df[\"Lat\"]\n",
    "wind = df[\"Wind Speed\"]\n",
    "plt.scatter(latitude,wind,edgecolor=\"black\", linewidth=1, marker=\"o\")\n",
    "plt.title(f\"City Latitude vs. Wind Speed {date}\")\n",
    "plt.xlabel(\"Latitude\")\n",
    "plt.ylabel(\"Wind Speed (mph)\")\n",
    "plt.grid()\n",
    "plt.savefig(\"Latitude vs Wind Speed (mph).png\")"
   ]
  },
  {
   "cell_type": "markdown",
   "metadata": {},
   "source": [
    "## Linear Regression"
   ]
  },
  {
   "cell_type": "code",
   "execution_count": 47,
   "metadata": {},
   "outputs": [],
   "source": [
    "# Create Northern and Southern Hemisphere DataFrames\n",
    "northern_hemisphere = df.loc[df[\"Lat\"] > 0]\n",
    "southern_hemisphere = df.loc[df[\"Lat\"] < 0]\n",
    "\n"
   ]
  },
  {
   "cell_type": "markdown",
   "metadata": {},
   "source": [
    "####  Northern Hemisphere - Max Temp vs. Latitude Linear Regression"
   ]
  },
  {
   "cell_type": "code",
   "execution_count": 50,
   "metadata": {},
   "outputs": [
    {
     "name": "stdout",
     "output_type": "stream",
     "text": [
      "The r-squared is: -0.8887816622715452\n"
     ]
    },
    {
     "data": {
      "image/png": "[encoded data removed]",
      "text/plain": [
       "<Figure size 432x288 with 1 Axes>"
      ]
     },
     "metadata": {
      "needs_background": "light"
     },
     "output_type": "display_data"
    }
   ],
   "source": [
    "# Add the linear regression equation and line to plot\n",
    "x_values = northern_hemisphere[\"Lat\"]\n",
    "y_values = northern_hemisphere[\"Temperature\"]\n",
    "(slope, intercept, rvalue, pvalue, stderr) = linregress(x_values, y_values)\n",
    "regress_values = x_values * slope + intercept\n",
    "line_eq = \"y = \" + str(round(slope,2)) + \"x + \" + str(round(intercept,2))\n",
    "plt.scatter(x_values,y_values)\n",
    "plt.plot(x_values,regress_values,\"r-\")\n",
    "plt.annotate(line_eq,(5.8,0.8),fontsize=15,color=\"red\")\n",
    "plt.xlabel('Latitude')\n",
    "plt.ylabel('Max Temp (F)')\n",
    "print(f\"The r-squared is: {rvalue}\")\n",
    "plt.show()"
   ]
  },
  {
   "cell_type": "markdown",
   "metadata": {},
   "source": [
    "####  Southern Hemisphere - Max Temp vs. Latitude Linear Regression"
   ]
  },
  {
   "cell_type": "code",
   "execution_count": 51,
   "metadata": {},
   "outputs": [
    {
     "name": "stdout",
     "output_type": "stream",
     "text": [
      "The r-squared is: 0.4044669290570997\n"
     ]
    },
    {
     "data": {
      "image/png": "[encoded data removed]",
      "text/plain": [
       "<Figure size 432x288 with 1 Axes>"
      ]
     },
     "metadata": {
      "needs_background": "light"
     },
     "output_type": "display_data"
    }
   ],
   "source": [
    "x_values = southern_hemisphere[\"Lat\"]\n",
    "y_values = southern_hemisphere[\"Temperature\"]\n",
    "(slope, intercept, rvalue, pvalue, stderr) = linregress(x_values, y_values)\n",
    "regress_values = x_values * slope + intercept\n",
    "line_eq = \"y = \" + str(round(slope,2)) + \"x + \" + str(round(intercept,2))\n",
    "plt.scatter(x_values,y_values)\n",
    "plt.plot(x_values,regress_values,\"r-\")\n",
    "plt.annotate(line_eq,(-30,40),fontsize=15,color=\"red\")\n",
    "plt.xlabel('Latitude')\n",
    "plt.ylabel('Max Temp (F)')\n",
    "print(f\"The r-squared is: {rvalue}\")\n",
    "plt.show()"
   ]
  },
  {
   "cell_type": "markdown",
   "metadata": {},
   "source": [
    "####  Northern Hemisphere - Humidity (%) vs. Latitude Linear Regression"
   ]
  },
  {
   "cell_type": "code",
   "execution_count": 71,
   "metadata": {},
   "outputs": [
    {
     "name": "stderr",
     "output_type": "stream",
     "text": [
      "C:\\Users\\mtaba\\bootcamp\\lib\\site-packages\\scipy\\stats\\stats.py:4023: PearsonRConstantInputWarning: An input array is constant; the correlation coefficient is not defined.\n",
      "  warnings.warn(PearsonRConstantInputWarning())\n"
     ]
    },
    {
     "data": {
      "image/png": "[encoded data removed]",
      "text/plain": [
       "<Figure size 432x288 with 1 Axes>"
      ]
     },
     "metadata": {
      "needs_background": "light"
     },
     "output_type": "display_data"
    },
    {
     "data": {
      "text/plain": [
       "<Figure size 432x288 with 0 Axes>"
      ]
     },
     "metadata": {},
     "output_type": "display_data"
    }
   ],
   "source": [
    "x_values = northern_hemisphere[\"Lat\"]\n",
    "y_values = northern_hemisphere[\"Humidity\"]\n",
    "(slope, intercept, rvalue, pvalue, stderr) = linregress(x_values, y_values)\n",
    "regress_values = x_values * slope + intercept\n",
    "line_eq = \"y = \" + str(round(slope,2)) + \"x + \" + str(round(intercept,2))\n",
    "correlation = st.pearsonr(x_values, y_values)\n",
    "plt.scatter(x_values,y_values)\n",
    "plt.plot(x_values,regress_values,\"r-\")\n",
    "plt.annotate(line_eq,(50,20),fontsize=12,color=\"red\")\n",
    "plt.xlabel('Latitude')\n",
    "plt.ylabel('Humidity (%)')\n",
    "plt.ylim(0, 105)\n",
    "plt.xlim(0, 80)\n",
    "plt.show()\n",
    "plt.savefig(\"lat_humid.png\")"
   ]
  },
  {
   "cell_type": "markdown",
   "metadata": {},
   "source": [
    "####  Southern Hemisphere - Humidity (%) vs. Latitude Linear Regression"
   ]
  },
  {
   "cell_type": "code",
   "execution_count": 72,
   "metadata": {},
   "outputs": [
    {
     "name": "stdout",
     "output_type": "stream",
     "text": [
      "The r-squared is: 0.0\n"
     ]
    },
    {
     "data": {
      "image/png": "[encoded data removed]",
      "text/plain": [
       "<Figure size 432x288 with 1 Axes>"
      ]
     },
     "metadata": {
      "needs_background": "light"
     },
     "output_type": "display_data"
    }
   ],
   "source": [
    "x_values = southern_hemisphere[\"Lat\"]\n",
    "y_values = southern_hemisphere[\"Humidity\"]\n",
    "(slope, intercept, rvalue, pvalue, stderr) = linregress(x_values, y_values)\n",
    "regress_values = x_values * slope + intercept\n",
    "line_eq = \"y = \" + str(round(slope,2)) + \"x + \" + str(round(intercept,2))\n",
    "plt.scatter(x_values,y_values)\n",
    "plt.plot(x_values,regress_values,\"r-\")\n",
    "plt.annotate(line_eq,(-35,80),fontsize=15,color=\"red\")\n",
    "plt.xlabel('Latitude')\n",
    "plt.ylabel('Humidity (%)')\n",
    "print(f\"The r-squared is: {rvalue}\")\n",
    "plt.show()"
   ]
  },
  {
   "cell_type": "markdown",
   "metadata": {},
   "source": [
    "####  Northern Hemisphere - Cloudiness (%) vs. Latitude Linear Regression"
   ]
  },
  {
   "cell_type": "code",
   "execution_count": 59,
   "metadata": {},
   "outputs": [
    {
     "name": "stdout",
     "output_type": "stream",
     "text": [
      "The r-squared is: 0.265686531877236\n"
     ]
    },
    {
     "data": {
      "image/png": "[encoded data removed]",
      "text/plain": [
       "<Figure size 432x288 with 1 Axes>"
      ]
     },
     "metadata": {
      "needs_background": "light"
     },
     "output_type": "display_data"
    }
   ],
   "source": [
    "x_values = northern_hemisphere[\"Lat\"]\n",
    "y_values = northern_hemisphere[\"Clouds\"]\n",
    "(slope, intercept, rvalue, pvalue, stderr) = linregress(x_values, y_values)\n",
    "regress_values = x_values * slope + intercept\n",
    "line_eq = \"y = \" + str(round(slope,2)) + \"x + \" + str(round(intercept,2))\n",
    "plt.scatter(x_values,y_values)\n",
    "plt.plot(x_values,regress_values,\"r-\")\n",
    "plt.annotate(line_eq,(5.8,0.8),fontsize=15,color=\"red\")\n",
    "plt.xlabel('Latitude')\n",
    "plt.ylabel('Clouds')\n",
    "print(f\"The r-squared is: {rvalue}\")\n",
    "plt.show()"
   ]
  },
  {
   "cell_type": "markdown",
   "metadata": {},
   "source": [
    "####  Southern Hemisphere - Cloudiness (%) vs. Latitude Linear Regression"
   ]
  },
  {
   "cell_type": "code",
   "execution_count": 61,
   "metadata": {},
   "outputs": [
    {
     "name": "stdout",
     "output_type": "stream",
     "text": [
      "The r-squared is: 0.3183521673735079\n"
     ]
    },
    {
     "data": {
      "image/png": "[encoded data removed]",
      "text/plain": [
       "<Figure size 432x288 with 1 Axes>"
      ]
     },
     "metadata": {
      "needs_background": "light"
     },
     "output_type": "display_data"
    }
   ],
   "source": [
    "x_values = southern_hemisphere[\"Lat\"]\n",
    "y_values = southern_hemisphere[\"Clouds\"]\n",
    "(slope, intercept, rvalue, pvalue, stderr) = linregress(x_values, y_values)\n",
    "regress_values = x_values * slope + intercept\n",
    "line_eq = \"y = \" + str(round(slope,2)) + \"x + \" + str(round(intercept,2))\n",
    "plt.scatter(x_values,y_values)\n",
    "plt.plot(x_values,regress_values,\"r-\")\n",
    "plt.annotate(line_eq,(5.8,0.8),fontsize=15,color=\"red\")\n",
    "plt.xlabel('Latitude')\n",
    "plt.ylabel('Cloudiness')\n",
    "print(f\"The r-squared is: {rvalue}\")\n",
    "plt.show()"
   ]
  },
  {
   "cell_type": "markdown",
   "metadata": {},
   "source": [
    "####  Northern Hemisphere - Wind Speed (mph) vs. Latitude Linear Regression"
   ]
  },
  {
   "cell_type": "code",
   "execution_count": 62,
   "metadata": {},
   "outputs": [
    {
     "name": "stdout",
     "output_type": "stream",
     "text": [
      "The r-squared is: 0.07178726558363949\n"
     ]
    },
    {
     "data": {
      "image/png": "[encoded data removed]",
      "text/plain": [
       "<Figure size 432x288 with 1 Axes>"
      ]
     },
     "metadata": {
      "needs_background": "light"
     },
     "output_type": "display_data"
    }
   ],
   "source": [
    "x_values = northern_hemisphere[\"Lat\"]\n",
    "y_values = northern_hemisphere[\"Wind Speed\"]\n",
    "(slope, intercept, rvalue, pvalue, stderr) = linregress(x_values, y_values)\n",
    "regress_values = x_values * slope + intercept\n",
    "line_eq = \"y = \" + str(round(slope,2)) + \"x + \" + str(round(intercept,2))\n",
    "plt.scatter(x_values,y_values)\n",
    "plt.plot(x_values,regress_values,\"r-\")\n",
    "plt.annotate(line_eq,(5.8,0.8),fontsize=15,color=\"red\")\n",
    "plt.xlabel('Latitude')\n",
    "plt.ylabel('Wind Speed')\n",
    "print(f\"The r-squared is: {rvalue}\")\n",
    "plt.show()"
   ]
  },
  {
   "cell_type": "markdown",
   "metadata": {},
   "source": [
    "####  Southern Hemisphere - Wind Speed (mph) vs. Latitude Linear Regression"
   ]
  },
  {
   "cell_type": "code",
   "execution_count": 63,
   "metadata": {},
   "outputs": [
    {
     "name": "stdout",
     "output_type": "stream",
     "text": [
      "The r-squared is: -0.09243108943464641\n"
     ]
    },
    {
     "data": {
      "image/png": "[encoded data removed]",
      "text/plain": [
       "<Figure size 432x288 with 1 Axes>"
      ]
     },
     "metadata": {
      "needs_background": "light"
     },
     "output_type": "display_data"
    }
   ],
   "source": [
    "x_values = southern_hemisphere[\"Lat\"]\n",
    "y_values = southern_hemisphere[\"Wind Speed\"]\n",
    "(slope, intercept, rvalue, pvalue, stderr) = linregress(x_values, y_values)\n",
    "regress_values = x_values * slope + intercept\n",
    "line_eq = \"y = \" + str(round(slope,2)) + \"x + \" + str(round(intercept,2))\n",
    "plt.scatter(x_values,y_values)\n",
    "plt.plot(x_values,regress_values,\"r-\")\n",
    "plt.annotate(line_eq,(5.8,0.8),fontsize=15,color=\"red\")\n",
    "plt.xlabel('Latitude')\n",
    "plt.ylabel('Wind Speed')\n",
    "print(f\"The r-squared is: {rvalue}\")\n",
    "plt.show()"
   ]
  },
  {
   "cell_type": "code",
   "execution_count": null,
   "metadata": {},
   "outputs": [],
   "source": []
  }
 ],
 "metadata": {
  "anaconda-cloud": {},
  "kernel_info": {
   "name": "python3"
  },
  "kernelspec": {
   "display_name": "PythonData",
   "language": "python",
   "name": "pythondata"
  },
  "language_info": {
   "codemirror_mode": {
    "name": "ipython",
    "version": 3
   },
   "file_extension": ".py",
   "mimetype": "text/x-python",
   "name": "python",
   "nbconvert_exporter": "python",
   "pygments_lexer": "ipython3",
   "version": "3.9.12"
  },
  "latex_envs": {
   "LaTeX_envs_menu_present": true,
   "autoclose": false,
   "autocomplete": true,
   "bibliofile": "biblio.bib",
   "cite_by": "apalike",
   "current_citInitial": 1,
   "eqLabelWithNumbers": true,
   "eqNumInitial": 1,
   "hotkeys": {
    "equation": "Ctrl-E",
    "itemize": "Ctrl-I"
   },
   "labels_anchors": false,
   "latex_user_defs": false,
   "report_style_numbering": false,
   "user_envs_cfg": false
  },
  "nteract": {
   "version": "0.12.3"
  }
 },
 "nbformat": 4,
 "nbformat_minor": 2
}
